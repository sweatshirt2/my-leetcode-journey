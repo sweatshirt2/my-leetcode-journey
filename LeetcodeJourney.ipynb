{
 "cells": [
  {
   "cell_type": "markdown",
   "metadata": {},
   "source": [
    "# Welcome to my Leetcode Journey"
   ]
  },
  {
   "cell_type": "markdown",
   "metadata": {},
   "source": [
    "## <i> In this notebook I will be following NeetCode's Roadmap to improve my problem solving skills and knowlegde on Data Structures and Algorithms </i>"
   ]
  },
  {
   "cell_type": "markdown",
   "metadata": {},
   "source": [
    "## Table of Content\n",
    "- [Arrays and Hashing](#1.-arrays-and-hashing)\n",
    "  - [Two Sum](#1.1.-two-sum)\n",
    "  - [Contains Duplicate](#1.2.-contains-duplicate)\n",
    "  - [Valid Anagram](#1.3.-valid-anagram)\n",
    "  - [Group Anagrams](#1.4.-group-anagrams)\n",
    "  - [Product of Array Except Self](#1.5.-product-of-array-except-self)\n",
    "  - [Longest Consecutive Sequence](#1.6.-longest-consecutive-sequence)\n",
    "  - [Top K Frequent Elements](#1.7.-top-k-frequent-elements)\n",
    "    - [With append](#1.7.1-with-append)\n",
    "    - [With extend](#1.7.2-with-extend)\n",
    "  - [Encode and Decode String](#1.8.-encode-and-decode-string)\n",
    "  - [Valid Sudoku](#1.9.-valid-sudoku)"
   ]
  },
  {
   "cell_type": "markdown",
   "metadata": {
    "vscode": {
     "languageId": "plaintext"
    }
   },
   "source": [
    "#### 1. Arrays and Hashing"
   ]
  },
  {
   "cell_type": "markdown",
   "metadata": {},
   "source": [
    "##### 1.1. Two Sum"
   ]
  },
  {
   "cell_type": "code",
   "execution_count": 15,
   "metadata": {},
   "outputs": [],
   "source": [
    "def twoSum(nums: list[int], target: int) -> list[int]:\n",
    "    tracker = {}\n",
    "    for i in range(len(nums) - 1):\n",
    "        diff = target - nums[i]\n",
    "        if diff in tracker:\n",
    "            return [tracker[diff], i]\n",
    "        tracker[nums[i]] = i"
   ]
  },
  {
   "cell_type": "markdown",
   "metadata": {
    "vscode": {
     "languageId": "plaintext"
    }
   },
   "source": [
    "##### 1.2. Contains Duplicate"
   ]
  },
  {
   "cell_type": "code",
   "execution_count": 16,
   "metadata": {},
   "outputs": [],
   "source": [
    "def containsDuplicate(nums: list[int]) -> bool:\n",
    "    tracker = set()\n",
    "    for num in nums:\n",
    "        if num in tracker:\n",
    "            return True\n",
    "        tracker.add(num)\n",
    "    return False\n",
    "\n",
    "\n",
    "def containsDuplicateCheckLength(nums: list[int]):\n",
    "    num_set = set(nums)\n",
    "    return len(nums) == len(num_set)"
   ]
  },
  {
   "cell_type": "markdown",
   "metadata": {},
   "source": [
    "##### 1.3. Valid Anagram"
   ]
  },
  {
   "cell_type": "code",
   "execution_count": 17,
   "metadata": {},
   "outputs": [],
   "source": [
    "def validAnagram(s: str, t: str) -> bool:\n",
    "    if len(s) != len(t):\n",
    "        return False\n",
    "    s_dict, t_dict = {}, {}\n",
    "    for i in range(len(s)):\n",
    "        s_dict[s[i]] = s_dict.get(s[i], 0) + 1\n",
    "        t_dict[t[i]] = t_dict.get(t[i], 0) + 1\n",
    "    return s_dict == t_dict"
   ]
  },
  {
   "cell_type": "markdown",
   "metadata": {},
   "source": [
    "##### 1.4. Group Anagrams"
   ]
  },
  {
   "cell_type": "code",
   "execution_count": 18,
   "metadata": {},
   "outputs": [],
   "source": [
    "import collections\n",
    "def groupAnagram(s: list[str]) -> list[list[str]]:\n",
    "    tracker = collections.defaultdict(list)\n",
    "    for word in s:\n",
    "        counter = [0] * 26\n",
    "        for letter in word:\n",
    "            counter[ord(letter) - ord('a')] += 1\n",
    "        tracker[tuple(counter)].append(word)\n",
    "    return tracker.values()"
   ]
  },
  {
   "cell_type": "markdown",
   "metadata": {},
   "source": [
    "##### 1.5. Product of Array Except Self"
   ]
  },
  {
   "cell_type": "code",
   "execution_count": 21,
   "metadata": {},
   "outputs": [],
   "source": [
    "def productExceptSelf(nums: list[int]) -> list[int]:\n",
    "    l = len(nums)\n",
    "    products = [1] * l\n",
    "    for i in range(1, l):\n",
    "        products[i] = products[i - 1] * nums[i - 1]\n",
    "    cumulative = nums[l]\n",
    "    for i in range(l - 2, -1, -1):\n",
    "        products[i] *= cumulative\n",
    "        cumulative *= nums[i]\n",
    "    return products"
   ]
  },
  {
   "cell_type": "markdown",
   "metadata": {},
   "source": [
    "##### 1.6. Longest Consecutive Sequence"
   ]
  },
  {
   "cell_type": "code",
   "execution_count": 24,
   "metadata": {},
   "outputs": [],
   "source": [
    "def longestSequence(nums: list[int]) -> int:\n",
    "    length = 1\n",
    "    tracker = set(nums)\n",
    "    for num in nums:\n",
    "        if num - 1 not in tracker:\n",
    "            l = 1\n",
    "            while num + 1 in tracker:\n",
    "                l += 1\n",
    "            length = max(length, l)\n",
    "    return length"
   ]
  },
  {
   "cell_type": "markdown",
   "metadata": {},
   "source": [
    "##### 1.7. Top K Frequent Elements"
   ]
  },
  {
   "cell_type": "markdown",
   "metadata": {},
   "source": [
    "##### 1.7.1. With append"
   ]
  },
  {
   "cell_type": "code",
   "execution_count": 26,
   "metadata": {},
   "outputs": [],
   "source": [
    "def kFrequent(nums: list[int], k: int) -> list[int]:\n",
    "    if len(nums) == 0:\n",
    "        return []\n",
    "    tracker = {}\n",
    "    for num in nums:\n",
    "        tracker[num] = tracker.get(num, 0) + 1\n",
    "    counter = [[] for i in range(len(nums) - 1)]\n",
    "    largest = 1\n",
    "    for key, val in tracker.items():\n",
    "        counter[val].append(key)\n",
    "        largest = max(largest, val)\n",
    "    top_k = []\n",
    "    for i in range(largest, -1, -1):\n",
    "        for num in counter[i]:\n",
    "            top_k.append(num)\n",
    "            if len(top_k) == k:\n",
    "                return top_k\n",
    "            \n",
    "\n",
    "# TODO: try the extend method instead of the append"
   ]
  },
  {
   "cell_type": "markdown",
   "metadata": {},
   "source": [
    "##### 1.7.2. With extend"
   ]
  },
  {
   "cell_type": "code",
   "execution_count": 21,
   "metadata": {},
   "outputs": [],
   "source": [
    "def mostFrequent(nums: list[int], k:int) -> list[int]:\n",
    "    tracker = {}\n",
    "    for num in nums:\n",
    "        tracker[num] = tracker.get(num, 0) + 1\n",
    "    counter = [[] for i in range(len(nums))]\n",
    "    largest = 1\n",
    "    for key, val in tracker.items():\n",
    "        counter[val].append(key)\n",
    "        largest = max(largest, key)\n",
    "    top_k = []\n",
    "    for i in range(largest, -1, -1):\n",
    "        top_k.extend(counter[i])\n",
    "        if len(top_k) >= k:\n",
    "            return top_k"
   ]
  },
  {
   "cell_type": "code",
   "execution_count": 25,
   "metadata": {},
   "outputs": [
    {
     "data": {
      "text/plain": [
       "[4]"
      ]
     },
     "execution_count": 25,
     "metadata": {},
     "output_type": "execute_result"
    }
   ],
   "source": [
    "mostFrequent([1,4,2,5,3,8,4,4,2,3,6,3,4], 1)"
   ]
  },
  {
   "cell_type": "markdown",
   "metadata": {},
   "source": [
    "##### 1.8. Encode and Decode String"
   ]
  },
  {
   "cell_type": "code",
   "execution_count": 53,
   "metadata": {},
   "outputs": [],
   "source": [
    "def encodeString(strs: list[str]) -> str:\n",
    "    encoded = ''\n",
    "    for word in strs:\n",
    "        encoded += (str(len(word)) + word)\n",
    "    return encoded\n",
    "\n",
    "\n",
    "def decodeString(encoded: str) -> list[str]:\n",
    "    encoded = '2we3are4back'\n",
    "    strs = []\n",
    "    i = 0\n",
    "    while i < len(encoded):\n",
    "        span = int(encoded[i]) + 1\n",
    "        strs.append(encoded[i+1: i+span])\n",
    "        i += span\n",
    "    return strs"
   ]
  },
  {
   "cell_type": "code",
   "execution_count": 54,
   "metadata": {},
   "outputs": [
    {
     "data": {
      "text/plain": [
       "['we', 'are', 'back']"
      ]
     },
     "execution_count": 54,
     "metadata": {},
     "output_type": "execute_result"
    }
   ],
   "source": [
    "decodeString(encodeString(['we', 'are', 'back']))"
   ]
  },
  {
   "cell_type": "markdown",
   "metadata": {},
   "source": [
    "##### 1.9. Valid Sudoku"
   ]
  },
  {
   "cell_type": "code",
   "execution_count": null,
   "metadata": {},
   "outputs": [],
   "source": [
    "def isValidSudoku(self, board: list[list[str]]) -> bool:\n",
    "    cols = {1: set(), 2: set(), 3: set(), 4: set(), 5: set(), 6: set(), 7: set(), 8: set(), 9: set()}\n",
    "    cubes = {1: set(), 2: set(), 3: set(), 4: set(), 5: set(), 6: set(), 7: set(), 8: set(), 9: set()}\n",
    "    for i in range(9):\n",
    "        row = set()\n",
    "        for j in range(9):\n",
    "            current = board[i][j]\n",
    "            if current == '.':\n",
    "                continue\n",
    "            if current in row or current in cols[j]:\n",
    "                return False\n",
    "            if i < 3 and j < 3:\n",
    "                if current in cubes[1]:\n",
    "                    return False\n",
    "                cubes[1].add(current)\n",
    "            if i < 3 and j > 2 and j < 6:\n",
    "                if current in cubes[2]:\n",
    "                    return False\n",
    "                cubes[2].add(current)\n",
    "            if i < 3 and j > 5:\n",
    "                if current in cubes[3]:\n",
    "                    return False\n",
    "                cubes[3].add(current)\n",
    "\n",
    "            if i > 2 and i < 6 and j < 3:\n",
    "                if current in cubes[1]:\n",
    "                    return False\n",
    "                cubes[1].add(current)\n",
    "            if i > 2 and i < 6 and j > 2 and j < 6:\n",
    "                if current in cubes[2]:\n",
    "                    return False\n",
    "                cubes[2].add(current)\n",
    "            if i > 2 and i < 6 and j > 5:\n",
    "                if current in cubes[3]:\n",
    "                    return False\n",
    "                cubes[3].add(current)\n",
    "\n",
    "            if i > 5 and j < 3:\n",
    "                if current in cubes[1]:\n",
    "                    return False\n",
    "                cubes[1].add(current)\n",
    "            if i > 5 and j > 2 and j < 6:\n",
    "                if current in cubes[2]:\n",
    "                    return False\n",
    "                cubes[2].add(current)\n",
    "            if i > 5 and j > 5:\n",
    "                if current in cubes[3]:\n",
    "                    return False\n",
    "                cubes[3].add(current)\n",
    "            row.add(current)\n",
    "            cols[j].add(current)\n",
    "    return False"
   ]
  }
 ],
 "metadata": {
  "kernelspec": {
   "display_name": "Python 3",
   "language": "python",
   "name": "python3"
  },
  "language_info": {
   "codemirror_mode": {
    "name": "ipython",
    "version": 3
   },
   "file_extension": ".py",
   "mimetype": "text/x-python",
   "name": "python",
   "nbconvert_exporter": "python",
   "pygments_lexer": "ipython3",
   "version": "3.11.9"
  }
 },
 "nbformat": 4,
 "nbformat_minor": 2
}
