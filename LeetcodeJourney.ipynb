{
 "cells": [
  {
   "cell_type": "markdown",
   "metadata": {},
   "source": [
    "# Welcome to my Leetcode Journey"
   ]
  },
  {
   "cell_type": "markdown",
   "metadata": {},
   "source": [
    "## <i> In this notebook I will be following NeetCode's Roadmap to improve my problem solving skills and knowlegde on Data Structures and Algorithms </i>"
   ]
  },
  {
   "cell_type": "markdown",
   "metadata": {},
   "source": [
    "## Table of Content\n",
    "- [Arrays and Hashing](#1.-arrays-and-hashing)\n",
    "  - [Two Sum](#1.1.-two-sum)\n",
    "  - [Contains Duplicate](#1.2.-contains-duplicate)\n",
    "  - [Valid Anagram](#1.3.-valid-anagram)\n",
    "  - [Group Anagram](#1.4.-group-anagram)\n",
    "  - [Product of Array Except Self](#1.5.-product-of-array-except-self)\n",
    "  - [Longest Consecutive Sequence](#1.6.-longest-consecutive-sequence)"
   ]
  },
  {
   "cell_type": "markdown",
   "metadata": {
    "vscode": {
     "languageId": "plaintext"
    }
   },
   "source": [
    "#### 1. <i> Arrays and Hashing </i>"
   ]
  },
  {
   "cell_type": "markdown",
   "metadata": {},
   "source": [
    "##### 1.1. Two Sum"
   ]
  },
  {
   "cell_type": "code",
   "execution_count": 15,
   "metadata": {},
   "outputs": [],
   "source": [
    "def twoSum(nums: list[int], target: int) -> list[int]:\n",
    "    tracker = {}\n",
    "    for i in range(len(nums) - 1):\n",
    "        diff = target - nums[i]\n",
    "        if diff in tracker:\n",
    "            return [tracker[diff], i]\n",
    "        tracker[nums[i]] = i"
   ]
  },
  {
   "cell_type": "markdown",
   "metadata": {
    "vscode": {
     "languageId": "plaintext"
    }
   },
   "source": [
    "##### 1.2. Contains Duplicate"
   ]
  },
  {
   "cell_type": "code",
   "execution_count": 16,
   "metadata": {},
   "outputs": [],
   "source": [
    "def containsDuplicate(nums: list[int]) -> bool:\n",
    "    tracker = set()\n",
    "    for num in nums:\n",
    "        if num in tracker:\n",
    "            return True\n",
    "        tracker.add(num)\n",
    "    return False\n",
    "\n",
    "\n",
    "def containsDuplicateCheckLength(nums: list[int]):\n",
    "    num_set = set(nums)\n",
    "    return len(nums) == len(num_set)"
   ]
  },
  {
   "cell_type": "markdown",
   "metadata": {},
   "source": [
    "##### 1.3. Valid Anagram"
   ]
  },
  {
   "cell_type": "code",
   "execution_count": 17,
   "metadata": {},
   "outputs": [],
   "source": [
    "def validAnagram(s: str, t: str) -> bool:\n",
    "    if len(s) != len(t):\n",
    "        return False\n",
    "    s_dict, t_dict = {}, {}\n",
    "    for i in range(len(s)):\n",
    "        s_dict[s[i]] = s_dict.get(s[i], 0) + 1\n",
    "        t_dict[t[i]] = t_dict.get(t[i], 0) + 1\n",
    "    return s_dict == t_dict"
   ]
  },
  {
   "cell_type": "markdown",
   "metadata": {},
   "source": [
    "##### 1.4. Group Anagram"
   ]
  },
  {
   "cell_type": "code",
   "execution_count": 18,
   "metadata": {},
   "outputs": [],
   "source": [
    "import collections\n",
    "def groupAnagram(s: list[str]) -> list[list[str]]:\n",
    "    tracker = collections.defaultdict(list)\n",
    "    for word in s:\n",
    "        counter = [0] * 26\n",
    "        for letter in word:\n",
    "            counter[ord(letter) - ord('a')] += 1\n",
    "        tracker[tuple(counter)].append(word)\n",
    "    return tracker.values()"
   ]
  },
  {
   "cell_type": "markdown",
   "metadata": {},
   "source": [
    "##### 1.5. Product of Array Except Self"
   ]
  },
  {
   "cell_type": "code",
   "execution_count": 21,
   "metadata": {},
   "outputs": [],
   "source": [
    "def productExceptSelf(nums: list[int]) -> list[int]:\n",
    "    l = len(nums)\n",
    "    products = [1] * l\n",
    "    for i in range(1, l):\n",
    "        products[i] = products[i - 1] * nums[i - 1]\n",
    "    cumulative = nums[l]\n",
    "    for i in range(l - 2, -1, -1):\n",
    "        products[i] *= cumulative\n",
    "        cumulative *= nums[i]\n",
    "    return products"
   ]
  },
  {
   "cell_type": "markdown",
   "metadata": {},
   "source": [
    "##### 1.6. Longest Consecutive Sequence"
   ]
  },
  {
   "cell_type": "code",
   "execution_count": null,
   "metadata": {},
   "outputs": [],
   "source": []
  }
 ],
 "metadata": {
  "kernelspec": {
   "display_name": "Python 3",
   "language": "python",
   "name": "python3"
  },
  "language_info": {
   "codemirror_mode": {
    "name": "ipython",
    "version": 3
   },
   "file_extension": ".py",
   "mimetype": "text/x-python",
   "name": "python",
   "nbconvert_exporter": "python",
   "pygments_lexer": "ipython3",
   "version": "3.11.9"
  }
 },
 "nbformat": 4,
 "nbformat_minor": 2
}
